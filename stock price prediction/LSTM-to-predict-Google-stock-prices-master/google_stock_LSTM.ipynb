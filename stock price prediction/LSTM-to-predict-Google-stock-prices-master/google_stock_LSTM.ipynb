{
 "cells": [
  {
   "cell_type": "code",
   "execution_count": 1,
   "metadata": {},
   "outputs": [],
   "source": [
    "import pandas as pd\n",
    "import matplotlib.pyplot as plt\n",
    "import numpy as np"
   ]
  },
  {
   "cell_type": "code",
   "execution_count": 74,
   "metadata": {},
   "outputs": [],
   "source": [
    "training=pd.read_csv('Google_Stock_Price_Train.csv')"
   ]
  },
  {
   "cell_type": "code",
   "execution_count": 75,
   "metadata": {},
   "outputs": [
    {
     "data": {
      "text/html": [
       "<div>\n",
       "<style scoped>\n",
       "    .dataframe tbody tr th:only-of-type {\n",
       "        vertical-align: middle;\n",
       "    }\n",
       "\n",
       "    .dataframe tbody tr th {\n",
       "        vertical-align: top;\n",
       "    }\n",
       "\n",
       "    .dataframe thead th {\n",
       "        text-align: right;\n",
       "    }\n",
       "</style>\n",
       "<table border=\"1\" class=\"dataframe\">\n",
       "  <thead>\n",
       "    <tr style=\"text-align: right;\">\n",
       "      <th></th>\n",
       "      <th>Date</th>\n",
       "      <th>Open</th>\n",
       "      <th>High</th>\n",
       "      <th>Low</th>\n",
       "      <th>Close</th>\n",
       "      <th>Volume</th>\n",
       "    </tr>\n",
       "  </thead>\n",
       "  <tbody>\n",
       "    <tr>\n",
       "      <th>0</th>\n",
       "      <td>1/3/2012</td>\n",
       "      <td>325.25</td>\n",
       "      <td>332.83</td>\n",
       "      <td>324.97</td>\n",
       "      <td>663.59</td>\n",
       "      <td>7,380,500</td>\n",
       "    </tr>\n",
       "    <tr>\n",
       "      <th>1</th>\n",
       "      <td>1/4/2012</td>\n",
       "      <td>331.27</td>\n",
       "      <td>333.87</td>\n",
       "      <td>329.08</td>\n",
       "      <td>666.45</td>\n",
       "      <td>5,749,400</td>\n",
       "    </tr>\n",
       "    <tr>\n",
       "      <th>2</th>\n",
       "      <td>1/5/2012</td>\n",
       "      <td>329.83</td>\n",
       "      <td>330.75</td>\n",
       "      <td>326.89</td>\n",
       "      <td>657.21</td>\n",
       "      <td>6,590,300</td>\n",
       "    </tr>\n",
       "    <tr>\n",
       "      <th>3</th>\n",
       "      <td>1/6/2012</td>\n",
       "      <td>328.34</td>\n",
       "      <td>328.77</td>\n",
       "      <td>323.68</td>\n",
       "      <td>648.24</td>\n",
       "      <td>5,405,900</td>\n",
       "    </tr>\n",
       "    <tr>\n",
       "      <th>4</th>\n",
       "      <td>1/9/2012</td>\n",
       "      <td>322.04</td>\n",
       "      <td>322.29</td>\n",
       "      <td>309.46</td>\n",
       "      <td>620.76</td>\n",
       "      <td>11,688,800</td>\n",
       "    </tr>\n",
       "  </tbody>\n",
       "</table>\n",
       "</div>"
      ],
      "text/plain": [
       "       Date    Open    High     Low   Close      Volume\n",
       "0  1/3/2012  325.25  332.83  324.97  663.59   7,380,500\n",
       "1  1/4/2012  331.27  333.87  329.08  666.45   5,749,400\n",
       "2  1/5/2012  329.83  330.75  326.89  657.21   6,590,300\n",
       "3  1/6/2012  328.34  328.77  323.68  648.24   5,405,900\n",
       "4  1/9/2012  322.04  322.29  309.46  620.76  11,688,800"
      ]
     },
     "execution_count": 75,
     "metadata": {},
     "output_type": "execute_result"
    }
   ],
   "source": [
    "training.head()"
   ]
  },
  {
   "cell_type": "code",
   "execution_count": 76,
   "metadata": {},
   "outputs": [],
   "source": [
    "training_set=training.iloc[:,1:2].values"
   ]
  },
  {
   "cell_type": "code",
   "execution_count": 77,
   "metadata": {},
   "outputs": [],
   "source": [
    "from sklearn.preprocessing import MinMaxScaler"
   ]
  },
  {
   "cell_type": "code",
   "execution_count": 78,
   "metadata": {},
   "outputs": [],
   "source": [
    "sc=MinMaxScaler()"
   ]
  },
  {
   "cell_type": "code",
   "execution_count": 79,
   "metadata": {},
   "outputs": [],
   "source": [
    "training_set=sc.fit_transform(training_set)"
   ]
  },
  {
   "cell_type": "code",
   "execution_count": 80,
   "metadata": {},
   "outputs": [],
   "source": [
    "x_train=training_set[:1257]"
   ]
  },
  {
   "cell_type": "code",
   "execution_count": 81,
   "metadata": {},
   "outputs": [],
   "source": [
    "y_train=training_set[1:1258]"
   ]
  },
  {
   "cell_type": "code",
   "execution_count": 82,
   "metadata": {},
   "outputs": [],
   "source": [
    "x_train=np.reshape(x_train,(1257,1,1))"
   ]
  },
  {
   "cell_type": "code",
   "execution_count": 83,
   "metadata": {},
   "outputs": [],
   "source": [
    "from keras.models import Sequential\n",
    "from keras.layers import Dense , LSTM"
   ]
  },
  {
   "cell_type": "code",
   "execution_count": 84,
   "metadata": {},
   "outputs": [],
   "source": [
    "model=Sequential()"
   ]
  },
  {
   "cell_type": "code",
   "execution_count": 85,
   "metadata": {},
   "outputs": [],
   "source": [
    "model.add(LSTM(units=4,activation='sigmoid',input_shape=(None,1)))"
   ]
  },
  {
   "cell_type": "code",
   "execution_count": 86,
   "metadata": {},
   "outputs": [],
   "source": [
    "model.add(Dense(units=1))"
   ]
  },
  {
   "cell_type": "code",
   "execution_count": 87,
   "metadata": {},
   "outputs": [],
   "source": [
    "model.compile(optimizer='adam',loss='mean_squared_error')"
   ]
  },
  {
   "cell_type": "code",
   "execution_count": 88,
   "metadata": {},
   "outputs": [
    {
     "name": "stdout",
     "output_type": "stream",
     "text": [
      "Epoch 1/200\n",
      "1257/1257 [==============================] - 1s 762us/step - loss: 0.8766\n",
      "Epoch 2/200\n",
      "1257/1257 [==============================] - 0s 57us/step - loss: 0.7173\n",
      "Epoch 3/200\n",
      "1257/1257 [==============================] - 0s 57us/step - loss: 0.5882\n",
      "Epoch 4/200\n",
      "1257/1257 [==============================] - 0s 59us/step - loss: 0.4839\n",
      "Epoch 5/200\n",
      "1257/1257 [==============================] - 0s 63us/step - loss: 0.3996\n",
      "Epoch 6/200\n",
      "1257/1257 [==============================] - 0s 60us/step - loss: 0.3312\n",
      "Epoch 7/200\n",
      "1257/1257 [==============================] - 0s 57us/step - loss: 0.2756\n",
      "Epoch 8/200\n",
      "1257/1257 [==============================] - 0s 57us/step - loss: 0.2303\n",
      "Epoch 9/200\n",
      "1257/1257 [==============================] - 0s 60us/step - loss: 0.1937\n",
      "Epoch 10/200\n",
      "1257/1257 [==============================] - 0s 63us/step - loss: 0.1642\n",
      "Epoch 11/200\n",
      "1257/1257 [==============================] - 0s 58us/step - loss: 0.1406\n",
      "Epoch 12/200\n",
      "1257/1257 [==============================] - 0s 58us/step - loss: 0.1220\n",
      "Epoch 13/200\n",
      "1257/1257 [==============================] - 0s 60us/step - loss: 0.1074\n",
      "Epoch 14/200\n",
      "1257/1257 [==============================] - 0s 62us/step - loss: 0.0962\n",
      "Epoch 15/200\n",
      "1257/1257 [==============================] - 0s 59us/step - loss: 0.0877\n",
      "Epoch 16/200\n",
      "1257/1257 [==============================] - 0s 59us/step - loss: 0.0813\n",
      "Epoch 17/200\n",
      "1257/1257 [==============================] - 0s 59us/step - loss: 0.0766\n",
      "Epoch 18/200\n",
      "1257/1257 [==============================] - 0s 59us/step - loss: 0.0732\n",
      "Epoch 19/200\n",
      "1257/1257 [==============================] - 0s 58us/step - loss: 0.0707\n",
      "Epoch 20/200\n",
      "1257/1257 [==============================] - 0s 58us/step - loss: 0.0689\n",
      "Epoch 21/200\n",
      "1257/1257 [==============================] - 0s 59us/step - loss: 0.0676\n",
      "Epoch 22/200\n",
      "1257/1257 [==============================] - 0s 63us/step - loss: 0.0665\n",
      "Epoch 23/200\n",
      "1257/1257 [==============================] - 0s 58us/step - loss: 0.0657\n",
      "Epoch 24/200\n",
      "1257/1257 [==============================] - 0s 57us/step - loss: 0.0650\n",
      "Epoch 25/200\n",
      "1257/1257 [==============================] - 0s 59us/step - loss: 0.0644\n",
      "Epoch 26/200\n",
      "1257/1257 [==============================] - 0s 57us/step - loss: 0.0638\n",
      "Epoch 27/200\n",
      "1257/1257 [==============================] - 0s 58us/step - loss: 0.0632\n",
      "Epoch 28/200\n",
      "1257/1257 [==============================] - 0s 59us/step - loss: 0.0626\n",
      "Epoch 29/200\n",
      "1257/1257 [==============================] - 0s 63us/step - loss: 0.0619\n",
      "Epoch 30/200\n",
      "1257/1257 [==============================] - 0s 56us/step - loss: 0.0613\n",
      "Epoch 31/200\n",
      "1257/1257 [==============================] - 0s 58us/step - loss: 0.0607\n",
      "Epoch 32/200\n",
      "1257/1257 [==============================] - 0s 59us/step - loss: 0.0600\n",
      "Epoch 33/200\n",
      "1257/1257 [==============================] - 0s 60us/step - loss: 0.0594\n",
      "Epoch 34/200\n",
      "1257/1257 [==============================] - 0s 67us/step - loss: 0.0586\n",
      "Epoch 35/200\n",
      "1257/1257 [==============================] - 0s 59us/step - loss: 0.0579\n",
      "Epoch 36/200\n",
      "1257/1257 [==============================] - 0s 57us/step - loss: 0.0571\n",
      "Epoch 37/200\n",
      "1257/1257 [==============================] - 0s 58us/step - loss: 0.0563\n",
      "Epoch 38/200\n",
      "1257/1257 [==============================] - 0s 63us/step - loss: 0.0555\n",
      "Epoch 39/200\n",
      "1257/1257 [==============================] - 0s 63us/step - loss: 0.0547\n",
      "Epoch 40/200\n",
      "1257/1257 [==============================] - 0s 61us/step - loss: 0.0538\n",
      "Epoch 41/200\n",
      "1257/1257 [==============================] - 0s 61us/step - loss: 0.0529\n",
      "Epoch 42/200\n",
      "1257/1257 [==============================] - 0s 69us/step - loss: 0.0520\n",
      "Epoch 43/200\n",
      "1257/1257 [==============================] - 0s 61us/step - loss: 0.0511\n",
      "Epoch 44/200\n",
      "1257/1257 [==============================] - 0s 60us/step - loss: 0.0501\n",
      "Epoch 45/200\n",
      "1257/1257 [==============================] - 0s 60us/step - loss: 0.0491\n",
      "Epoch 46/200\n",
      "1257/1257 [==============================] - 0s 58us/step - loss: 0.0480\n",
      "Epoch 47/200\n",
      "1257/1257 [==============================] - 0s 65us/step - loss: 0.0469\n",
      "Epoch 48/200\n",
      "1257/1257 [==============================] - 0s 57us/step - loss: 0.0459\n",
      "Epoch 49/200\n",
      "1257/1257 [==============================] - 0s 58us/step - loss: 0.0447\n",
      "Epoch 50/200\n",
      "1257/1257 [==============================] - 0s 58us/step - loss: 0.0436\n",
      "Epoch 51/200\n",
      "1257/1257 [==============================] - 0s 59us/step - loss: 0.0424\n",
      "Epoch 52/200\n",
      "1257/1257 [==============================] - 0s 64us/step - loss: 0.0411\n",
      "Epoch 53/200\n",
      "1257/1257 [==============================] - 0s 59us/step - loss: 0.0399\n",
      "Epoch 54/200\n",
      "1257/1257 [==============================] - 0s 59us/step - loss: 0.0386\n",
      "Epoch 55/200\n",
      "1257/1257 [==============================] - 0s 61us/step - loss: 0.0374\n",
      "Epoch 56/200\n",
      "1257/1257 [==============================] - 0s 59us/step - loss: 0.0361\n",
      "Epoch 57/200\n",
      "1257/1257 [==============================] - 0s 61us/step - loss: 0.0347\n",
      "Epoch 58/200\n",
      "1257/1257 [==============================] - 0s 57us/step - loss: 0.0334\n",
      "Epoch 59/200\n",
      "1257/1257 [==============================] - 0s 57us/step - loss: 0.0321\n",
      "Epoch 60/200\n",
      "1257/1257 [==============================] - 0s 58us/step - loss: 0.0307\n",
      "Epoch 61/200\n",
      "1257/1257 [==============================] - 0s 62us/step - loss: 0.0293\n",
      "Epoch 62/200\n",
      "1257/1257 [==============================] - 0s 59us/step - loss: 0.0279\n",
      "Epoch 63/200\n",
      "1257/1257 [==============================] - 0s 59us/step - loss: 0.0265\n",
      "Epoch 64/200\n",
      "1257/1257 [==============================] - 0s 63us/step - loss: 0.0252\n",
      "Epoch 65/200\n",
      "1257/1257 [==============================] - 0s 60us/step - loss: 0.0238\n",
      "Epoch 66/200\n",
      "1257/1257 [==============================] - 0s 60us/step - loss: 0.0224\n",
      "Epoch 67/200\n",
      "1257/1257 [==============================] - 0s 63us/step - loss: 0.0211\n",
      "Epoch 68/200\n",
      "1257/1257 [==============================] - 0s 57us/step - loss: 0.0198\n",
      "Epoch 69/200\n",
      "1257/1257 [==============================] - 0s 57us/step - loss: 0.0185\n",
      "Epoch 70/200\n",
      "1257/1257 [==============================] - 0s 57us/step - loss: 0.0173\n",
      "Epoch 71/200\n",
      "1257/1257 [==============================] - 0s 58us/step - loss: 0.0160\n",
      "Epoch 72/200\n",
      "1257/1257 [==============================] - 0s 64us/step - loss: 0.0148\n",
      "Epoch 73/200\n",
      "1257/1257 [==============================] - 0s 64us/step - loss: 0.0137\n",
      "Epoch 74/200\n",
      "1257/1257 [==============================] - 0s 58us/step - loss: 0.0126\n",
      "Epoch 75/200\n",
      "1257/1257 [==============================] - 0s 58us/step - loss: 0.0116\n",
      "Epoch 76/200\n",
      "1257/1257 [==============================] - 0s 65us/step - loss: 0.0106\n",
      "Epoch 77/200\n",
      "1257/1257 [==============================] - 0s 60us/step - loss: 0.0096\n",
      "Epoch 78/200\n",
      "1257/1257 [==============================] - 0s 59us/step - loss: 0.0087\n",
      "Epoch 79/200\n",
      "1257/1257 [==============================] - 0s 59us/step - loss: 0.0079\n",
      "Epoch 80/200\n",
      "1257/1257 [==============================] - 0s 62us/step - loss: 0.0071\n",
      "Epoch 81/200\n",
      "1257/1257 [==============================] - 0s 58us/step - loss: 0.0064\n",
      "Epoch 82/200\n",
      "1257/1257 [==============================] - 0s 59us/step - loss: 0.0057\n",
      "Epoch 83/200\n",
      "1257/1257 [==============================] - 0s 59us/step - loss: 0.0051\n",
      "Epoch 84/200\n",
      "1257/1257 [==============================] - 0s 59us/step - loss: 0.0045\n",
      "Epoch 85/200\n",
      "1257/1257 [==============================] - 0s 60us/step - loss: 0.0040\n",
      "Epoch 86/200\n",
      "1257/1257 [==============================] - 0s 60us/step - loss: 0.0036\n",
      "Epoch 87/200\n",
      "1257/1257 [==============================] - 0s 60us/step - loss: 0.0032\n",
      "Epoch 88/200\n",
      "1257/1257 [==============================] - 0s 60us/step - loss: 0.0028\n",
      "Epoch 89/200\n",
      "1257/1257 [==============================] - 0s 58us/step - loss: 0.0025\n",
      "Epoch 90/200\n",
      "1257/1257 [==============================] - 0s 62us/step - loss: 0.0022\n",
      "Epoch 91/200\n",
      "1257/1257 [==============================] - 0s 59us/step - loss: 0.0019\n",
      "Epoch 92/200\n",
      "1257/1257 [==============================] - 0s 61us/step - loss: 0.0017\n",
      "Epoch 93/200\n",
      "1257/1257 [==============================] - 0s 60us/step - loss: 0.0015\n",
      "Epoch 94/200\n",
      "1257/1257 [==============================] - 0s 62us/step - loss: 0.0014\n",
      "Epoch 95/200\n",
      "1257/1257 [==============================] - 0s 56us/step - loss: 0.0012\n",
      "Epoch 96/200\n"
     ]
    },
    {
     "name": "stdout",
     "output_type": "stream",
     "text": [
      "1257/1257 [==============================] - 0s 60us/step - loss: 0.0011\n",
      "Epoch 97/200\n",
      "1257/1257 [==============================] - 0s 58us/step - loss: 0.0010\n",
      "Epoch 98/200\n",
      "1257/1257 [==============================] - 0s 60us/step - loss: 9.4856e-04\n",
      "Epoch 99/200\n",
      "1257/1257 [==============================] - 0s 59us/step - loss: 8.7801e-04\n",
      "Epoch 100/200\n",
      "1257/1257 [==============================] - 0s 59us/step - loss: 8.1860e-04\n",
      "Epoch 101/200\n",
      "1257/1257 [==============================] - 0s 58us/step - loss: 7.6906e-04\n",
      "Epoch 102/200\n",
      "1257/1257 [==============================] - 0s 57us/step - loss: 7.2671e-04\n",
      "Epoch 103/200\n",
      "1257/1257 [==============================] - 0s 58us/step - loss: 6.9192e-04\n",
      "Epoch 104/200\n",
      "1257/1257 [==============================] - 0s 57us/step - loss: 6.6341e-04\n",
      "Epoch 105/200\n",
      "1257/1257 [==============================] - 0s 57us/step - loss: 6.3764e-04\n",
      "Epoch 106/200\n",
      "1257/1257 [==============================] - 0s 57us/step - loss: 6.1735e-04\n",
      "Epoch 107/200\n",
      "1257/1257 [==============================] - 0s 61us/step - loss: 5.9934e-04\n",
      "Epoch 108/200\n",
      "1257/1257 [==============================] - 0s 59us/step - loss: 5.8312e-04\n",
      "Epoch 109/200\n",
      "1257/1257 [==============================] - 0s 60us/step - loss: 5.6941e-04\n",
      "Epoch 110/200\n",
      "1257/1257 [==============================] - 0s 57us/step - loss: 5.5683e-04\n",
      "Epoch 111/200\n",
      "1257/1257 [==============================] - 0s 59us/step - loss: 5.4589e-04\n",
      "Epoch 112/200\n",
      "1257/1257 [==============================] - 0s 59us/step - loss: 5.3541e-04\n",
      "Epoch 113/200\n",
      "1257/1257 [==============================] - 0s 58us/step - loss: 5.2677e-04\n",
      "Epoch 114/200\n",
      "1257/1257 [==============================] - 0s 57us/step - loss: 5.1829e-04\n",
      "Epoch 115/200\n",
      "1257/1257 [==============================] - 0s 57us/step - loss: 5.1202e-04\n",
      "Epoch 116/200\n",
      "1257/1257 [==============================] - 0s 58us/step - loss: 5.0167e-04\n",
      "Epoch 117/200\n",
      "1257/1257 [==============================] - 0s 58us/step - loss: 4.9498e-04\n",
      "Epoch 118/200\n",
      "1257/1257 [==============================] - 0s 59us/step - loss: 4.8736e-04\n",
      "Epoch 119/200\n",
      "1257/1257 [==============================] - 0s 58us/step - loss: 4.8004e-04\n",
      "Epoch 120/200\n",
      "1257/1257 [==============================] - 0s 59us/step - loss: 4.7363e-04\n",
      "Epoch 121/200\n",
      "1257/1257 [==============================] - 0s 59us/step - loss: 4.6716e-04\n",
      "Epoch 122/200\n",
      "1257/1257 [==============================] - 0s 57us/step - loss: 4.6066e-04\n",
      "Epoch 123/200\n",
      "1257/1257 [==============================] - 0s 61us/step - loss: 4.5416e-04\n",
      "Epoch 124/200\n",
      "1257/1257 [==============================] - 0s 61us/step - loss: 4.4807e-04\n",
      "Epoch 125/200\n",
      "1257/1257 [==============================] - 0s 58us/step - loss: 4.4204e-04\n",
      "Epoch 126/200\n",
      "1257/1257 [==============================] - 0s 58us/step - loss: 4.3609e-04\n",
      "Epoch 127/200\n",
      "1257/1257 [==============================] - 0s 62us/step - loss: 4.3284e-04\n",
      "Epoch 128/200\n",
      "1257/1257 [==============================] - 0s 60us/step - loss: 4.2468e-04\n",
      "Epoch 129/200\n",
      "1257/1257 [==============================] - 0s 59us/step - loss: 4.1949e-04\n",
      "Epoch 130/200\n",
      "1257/1257 [==============================] - 0s 60us/step - loss: 4.1466e-04\n",
      "Epoch 131/200\n",
      "1257/1257 [==============================] - 0s 59us/step - loss: 4.0903e-04\n",
      "Epoch 132/200\n",
      "1257/1257 [==============================] - 0s 61us/step - loss: 4.0543e-04\n",
      "Epoch 133/200\n",
      "1257/1257 [==============================] - 0s 58us/step - loss: 4.0002e-04\n",
      "Epoch 134/200\n",
      "1257/1257 [==============================] - 0s 59us/step - loss: 3.9428e-04\n",
      "Epoch 135/200\n",
      "1257/1257 [==============================] - 0s 60us/step - loss: 3.9074e-04\n",
      "Epoch 136/200\n",
      "1257/1257 [==============================] - 0s 59us/step - loss: 3.8512e-04\n",
      "Epoch 137/200\n",
      "1257/1257 [==============================] - 0s 59us/step - loss: 3.8091e-04\n",
      "Epoch 138/200\n",
      "1257/1257 [==============================] - 0s 57us/step - loss: 3.7868e-04\n",
      "Epoch 139/200\n",
      "1257/1257 [==============================] - 0s 58us/step - loss: 3.7313e-04\n",
      "Epoch 140/200\n",
      "1257/1257 [==============================] - 0s 60us/step - loss: 3.6820e-04\n",
      "Epoch 141/200\n",
      "1257/1257 [==============================] - 0s 60us/step - loss: 3.6426e-04\n",
      "Epoch 142/200\n",
      "1257/1257 [==============================] - 0s 59us/step - loss: 3.6075e-04\n",
      "Epoch 143/200\n",
      "1257/1257 [==============================] - 0s 59us/step - loss: 3.5710e-04\n",
      "Epoch 144/200\n",
      "1257/1257 [==============================] - 0s 63us/step - loss: 3.5330e-04\n",
      "Epoch 145/200\n",
      "1257/1257 [==============================] - 0s 64us/step - loss: 3.5032e-04\n",
      "Epoch 146/200\n",
      "1257/1257 [==============================] - 0s 60us/step - loss: 3.4676e-04\n",
      "Epoch 147/200\n",
      "1257/1257 [==============================] - 0s 59us/step - loss: 3.4554e-04\n",
      "Epoch 148/200\n",
      "1257/1257 [==============================] - 0s 59us/step - loss: 3.4156e-04\n",
      "Epoch 149/200\n",
      "1257/1257 [==============================] - 0s 61us/step - loss: 3.3801e-04\n",
      "Epoch 150/200\n",
      "1257/1257 [==============================] - 0s 62us/step - loss: 3.3532e-04\n",
      "Epoch 151/200\n",
      "1257/1257 [==============================] - 0s 59us/step - loss: 3.3181e-04\n",
      "Epoch 152/200\n",
      "1257/1257 [==============================] - 0s 59us/step - loss: 3.2984e-04\n",
      "Epoch 153/200\n",
      "1257/1257 [==============================] - 0s 60us/step - loss: 3.2671e-04\n",
      "Epoch 154/200\n",
      "1257/1257 [==============================] - 0s 60us/step - loss: 3.2488e-04\n",
      "Epoch 155/200\n",
      "1257/1257 [==============================] - 0s 60us/step - loss: 3.2540e-04\n",
      "Epoch 156/200\n",
      "1257/1257 [==============================] - 0s 59us/step - loss: 3.2005e-04\n",
      "Epoch 157/200\n",
      "1257/1257 [==============================] - 0s 60us/step - loss: 3.1828e-04\n",
      "Epoch 158/200\n",
      "1257/1257 [==============================] - 0s 63us/step - loss: 3.1499e-04\n",
      "Epoch 159/200\n",
      "1257/1257 [==============================] - 0s 64us/step - loss: 3.1337e-04\n",
      "Epoch 160/200\n",
      "1257/1257 [==============================] - 0s 59us/step - loss: 3.1190e-04\n",
      "Epoch 161/200\n",
      "1257/1257 [==============================] - 0s 59us/step - loss: 3.1031e-04\n",
      "Epoch 162/200\n",
      "1257/1257 [==============================] - 0s 59us/step - loss: 3.0773e-04\n",
      "Epoch 163/200\n",
      "1257/1257 [==============================] - 0s 64us/step - loss: 3.0639e-04\n",
      "Epoch 164/200\n",
      "1257/1257 [==============================] - 0s 61us/step - loss: 3.0498e-04\n",
      "Epoch 165/200\n",
      "1257/1257 [==============================] - 0s 63us/step - loss: 3.0407e-04\n",
      "Epoch 166/200\n",
      "1257/1257 [==============================] - 0s 62us/step - loss: 3.0170e-04\n",
      "Epoch 167/200\n",
      "1257/1257 [==============================] - 0s 62us/step - loss: 3.0073e-04\n",
      "Epoch 168/200\n",
      "1257/1257 [==============================] - 0s 66us/step - loss: 2.9906e-04\n",
      "Epoch 169/200\n",
      "1257/1257 [==============================] - 0s 65us/step - loss: 2.9726e-04\n",
      "Epoch 170/200\n",
      "1257/1257 [==============================] - 0s 65us/step - loss: 2.9727e-04\n",
      "Epoch 171/200\n",
      "1257/1257 [==============================] - 0s 66us/step - loss: 2.9496e-04\n",
      "Epoch 172/200\n",
      "1257/1257 [==============================] - 0s 69us/step - loss: 2.9552e-04\n",
      "Epoch 173/200\n",
      "1257/1257 [==============================] - 0s 66us/step - loss: 2.9281e-04\n",
      "Epoch 174/200\n",
      "1257/1257 [==============================] - 0s 59us/step - loss: 2.9262e-04\n",
      "Epoch 175/200\n",
      "1257/1257 [==============================] - 0s 61us/step - loss: 2.9107e-04\n",
      "Epoch 176/200\n",
      "1257/1257 [==============================] - 0s 60us/step - loss: 2.8999e-04\n",
      "Epoch 177/200\n",
      "1257/1257 [==============================] - 0s 60us/step - loss: 2.8930e-04\n",
      "Epoch 178/200\n",
      "1257/1257 [==============================] - 0s 61us/step - loss: 2.8839e-04\n",
      "Epoch 179/200\n",
      "1257/1257 [==============================] - 0s 64us/step - loss: 2.8723e-04\n",
      "Epoch 180/200\n",
      "1257/1257 [==============================] - 0s 79us/step - loss: 2.8684e-04\n",
      "Epoch 181/200\n",
      "1257/1257 [==============================] - 0s 70us/step - loss: 2.8604e-04\n",
      "Epoch 182/200\n",
      "1257/1257 [==============================] - 0s 66us/step - loss: 2.8852e-04\n",
      "Epoch 183/200\n",
      "1257/1257 [==============================] - 0s 65us/step - loss: 2.8460e-04\n",
      "Epoch 184/200\n",
      "1257/1257 [==============================] - 0s 64us/step - loss: 2.8438e-04\n",
      "Epoch 185/200\n",
      "1257/1257 [==============================] - 0s 62us/step - loss: 2.8476e-04\n",
      "Epoch 186/200\n"
     ]
    },
    {
     "name": "stdout",
     "output_type": "stream",
     "text": [
      "1257/1257 [==============================] - 0s 65us/step - loss: 2.8372e-04\n",
      "Epoch 187/200\n",
      "1257/1257 [==============================] - 0s 63us/step - loss: 2.8169e-04\n",
      "Epoch 188/200\n",
      "1257/1257 [==============================] - 0s 66us/step - loss: 2.8169e-04\n",
      "Epoch 189/200\n",
      "1257/1257 [==============================] - 0s 65us/step - loss: 2.8121e-04\n",
      "Epoch 190/200\n",
      "1257/1257 [==============================] - 0s 64us/step - loss: 2.8362e-04\n",
      "Epoch 191/200\n",
      "1257/1257 [==============================] - 0s 62us/step - loss: 2.8086e-04\n",
      "Epoch 192/200\n",
      "1257/1257 [==============================] - 0s 61us/step - loss: 2.8234e-04\n",
      "Epoch 193/200\n",
      "1257/1257 [==============================] - 0s 63us/step - loss: 2.7986e-04\n",
      "Epoch 194/200\n",
      "1257/1257 [==============================] - 0s 62us/step - loss: 2.8140e-04\n",
      "Epoch 195/200\n",
      "1257/1257 [==============================] - 0s 61us/step - loss: 2.8041e-04\n",
      "Epoch 196/200\n",
      "1257/1257 [==============================] - 0s 65us/step - loss: 2.7809e-04\n",
      "Epoch 197/200\n",
      "1257/1257 [==============================] - 0s 63us/step - loss: 2.7806e-04\n",
      "Epoch 198/200\n",
      "1257/1257 [==============================] - 0s 62us/step - loss: 2.7952e-04\n",
      "Epoch 199/200\n",
      "1257/1257 [==============================] - 0s 63us/step - loss: 2.7582e-04\n",
      "Epoch 200/200\n",
      "1257/1257 [==============================] - 0s 61us/step - loss: 2.8008e-04\n"
     ]
    },
    {
     "data": {
      "text/plain": [
       "<keras.callbacks.callbacks.History at 0x11b8f9cc0>"
      ]
     },
     "execution_count": 88,
     "metadata": {},
     "output_type": "execute_result"
    }
   ],
   "source": [
    "model.fit(x_train,y_train,batch_size=32,epochs=200)"
   ]
  },
  {
   "cell_type": "code",
   "execution_count": 34,
   "metadata": {},
   "outputs": [],
   "source": [
    "test_set=pd.read_csv('Google_Stock_Price_Test.csv')"
   ]
  },
  {
   "cell_type": "code",
   "execution_count": 35,
   "metadata": {},
   "outputs": [],
   "source": [
    "stock_price=test_set.iloc[:,1:2].values"
   ]
  },
  {
   "cell_type": "code",
   "execution_count": 37,
   "metadata": {},
   "outputs": [],
   "source": [
    "x_test=sc.fit_transform(stock_price)"
   ]
  },
  {
   "cell_type": "code",
   "execution_count": 39,
   "metadata": {},
   "outputs": [],
   "source": [
    "x_test=np.reshape(x_test,(20,1,1))"
   ]
  },
  {
   "cell_type": "code",
   "execution_count": 40,
   "metadata": {},
   "outputs": [],
   "source": [
    "y_pred=model.predict(x_test)"
   ]
  },
  {
   "cell_type": "code",
   "execution_count": 44,
   "metadata": {},
   "outputs": [],
   "source": [
    "y_pred=sc.inverse_transform(y_pred)"
   ]
  },
  {
   "cell_type": "code",
   "execution_count": 45,
   "metadata": {},
   "outputs": [
    {
     "data": {
      "image/png": "[encoded data removed]",
      "text/plain": [
       "<Figure size 432x288 with 1 Axes>"
      ]
     },
     "metadata": {
      "needs_background": "light"
     },
     "output_type": "display_data"
    }
   ],
   "source": [
    "plt.plot(stock_price, color = 'red', label = 'Real Google Stock Price')\n",
    "plt.plot(y_pred, color = 'blue', label = 'Predicted Google Stock Price')\n",
    "plt.title('Google Stock Price Prediction')\n",
    "plt.xlabel('Time')\n",
    "plt.ylabel('Google Time Price')\n",
    "plt.legend()\n",
    "plt.show()"
   ]
  },
  {
   "cell_type": "code",
   "execution_count": 51,
   "metadata": {},
   "outputs": [
    {
     "data": {
      "text/plain": [
       "array([[778.81],\n",
       "       [788.36],\n",
       "       [786.08],\n",
       "       [795.26],\n",
       "       [806.4 ],\n",
       "       [807.86],\n",
       "       [805.  ],\n",
       "       [807.14],\n",
       "       [807.48],\n",
       "       [807.08],\n",
       "       [805.81],\n",
       "       [805.12],\n",
       "       [806.91],\n",
       "       [807.25],\n",
       "       [822.3 ],\n",
       "       [829.62],\n",
       "       [837.81],\n",
       "       [834.71],\n",
       "       [814.66],\n",
       "       [796.86]])"
      ]
     },
     "execution_count": 51,
     "metadata": {},
     "output_type": "execute_result"
    }
   ],
   "source": [
    "stock_price"
   ]
  },
  {
   "cell_type": "code",
   "execution_count": 53,
   "metadata": {},
   "outputs": [],
   "source": [
    "real_stock_price = pd.read_csv(\"Google_Stock_Price_Train.csv\")\n",
    "real_stock_price = real_stock_price.iloc[:,1:2].values\n"
   ]
  },
  {
   "cell_type": "code",
   "execution_count": 89,
   "metadata": {},
   "outputs": [],
   "source": [
    "predicted_stock_price_train = model.predict(x_train)\n",
    "predicted_stock_price_train = sc.inverse_transform(predicted_stock_price_train)\n"
   ]
  },
  {
   "cell_type": "code",
   "execution_count": 90,
   "metadata": {},
   "outputs": [
    {
     "data": {
      "image/png": "[encoded data removed]",
      "text/plain": [
       "<Figure size 432x288 with 1 Axes>"
      ]
     },
     "metadata": {
      "needs_background": "light"
     },
     "output_type": "display_data"
    }
   ],
   "source": [
    "plt.plot(real_stock_price, color = 'red', label = 'Real Google Stock Price')\n",
    "plt.plot(predicted_stock_price_train, color = 'blue', label = 'Predicted Google Stock Price')\n",
    "plt.title('Google Stock Price Prediction')\n",
    "plt.xlabel('Time')\n",
    "plt.ylabel('Google Time Price')\n",
    "plt.legend()\n",
    "plt.show()"
   ]
  },
  {
   "cell_type": "code",
   "execution_count": null,
   "metadata": {},
   "outputs": [],
   "source": []
  }
 ],
 "metadata": {
  "kernelspec": {
   "display_name": "Python 3",
   "language": "python",
   "name": "python3"
  },
  "language_info": {
   "codemirror_mode": {
    "name": "ipython",
    "version": 3
   },
   "file_extension": ".py",
   "mimetype": "text/x-python",
   "name": "python",
   "nbconvert_exporter": "python",
   "pygments_lexer": "ipython3",
   "version": "3.7.1"
  }
 },
 "nbformat": 4,
 "nbformat_minor": 2
}
